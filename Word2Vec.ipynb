{
 "cells": [
  {
   "cell_type": "markdown",
   "source": [
    "Importing libraries"
   ],
   "metadata": {
    "collapsed": false
   },
   "id": "abe8e27754e6c79d"
  },
  {
   "cell_type": "code",
   "execution_count": 9,
   "outputs": [],
   "source": [
    "from gensim.models import Word2Vec\n",
    "from nltk.corpus import stopwords\n",
    "import re"
   ],
   "metadata": {
    "collapsed": false,
    "ExecuteTime": {
     "end_time": "2023-08-31T14:42:47.098722Z",
     "start_time": "2023-08-31T14:42:47.095387Z"
    }
   },
   "id": "initial_id"
  },
  {
   "cell_type": "code",
   "execution_count": 5,
   "outputs": [],
   "source": [
    "import nltk"
   ],
   "metadata": {
    "collapsed": false,
    "ExecuteTime": {
     "end_time": "2023-08-31T14:31:04.291556Z",
     "start_time": "2023-08-31T14:31:04.281016Z"
    }
   },
   "id": "22b4547261ba618f"
  },
  {
   "cell_type": "code",
   "execution_count": 2,
   "outputs": [],
   "source": [
    "paragraph = \"\"\"I have three visions for India. In 3000 years of our history, people from all over \n",
    "               the world have come and invaded us, captured our lands, conquered our minds. \n",
    "               From Alexander onwards, the Greeks, the Turks, the Moguls, the Portuguese, the British,\n",
    "               the French, the Dutch, all of them came and looted us, took over what was ours. \n",
    "               Yet we have not done this to any other nation. We have not conquered anyone. \n",
    "               We have not grabbed their land, their culture, \n",
    "               their history and tried to enforce our way of life on them. \n",
    "               Why? Because we respect the freedom of others.That is why my \n",
    "               first vision is that of freedom. I believe that India got its first vision of \n",
    "               this in 1857, when we started the War of Independence. It is this freedom that\n",
    "               we must protect and nurture and build on. If we are not free, no one will respect us.\n",
    "               My second vision for India’s development. For fifty years we have been a developing nation.\n",
    "               It is time we see ourselves as a developed nation. We are among the top 5 nations of the world\n",
    "               in terms of GDP. We have a 10 percent growth rate in most areas. Our poverty levels are falling.\n",
    "               Our achievements are being globally recognised today. Yet we lack the self-confidence to\n",
    "               see ourselves as a developed nation, self-reliant and self-assured. Isn’t this incorrect?\n",
    "               I have a third vision. India must stand up to the world. Because I believe that unless India \n",
    "               stands up to the world, no one will respect us. Only strength respects strength. We must be \n",
    "               strong not only as a military power but also as an economic power. Both must go hand-in-hand. \n",
    "               My good fortune was to have worked with three great minds. Dr. Vikram Sarabhai of the Dept. of \n",
    "               space, Professor Satish Dhawan, who succeeded him and Dr. Brahm Prakash, father of nuclear material.\n",
    "               I was lucky to have worked with all three of them closely and consider this the great opportunity of my life. \n",
    "               I see four milestones in my career\"\"\""
   ],
   "metadata": {
    "collapsed": false,
    "ExecuteTime": {
     "end_time": "2023-08-31T14:18:55.270210Z",
     "start_time": "2023-08-31T14:18:55.265581Z"
    }
   },
   "id": "6b08084f62aea917"
  },
  {
   "cell_type": "markdown",
   "source": [
    "Pre-processing the Data"
   ],
   "metadata": {
    "collapsed": false
   },
   "id": "3d30ca8a2dd4bc2"
  },
  {
   "cell_type": "code",
   "execution_count": 3,
   "outputs": [],
   "source": [
    "text = re.sub(r'\\[[0-9]*\\]',' ',paragraph)\n",
    "text = re.sub(r'\\s+',' ',text)\n",
    "text = text.lower()\n",
    "text = re.sub(r'\\d',' ',text)\n",
    "text = re.sub(r'\\s+',' ',text)"
   ],
   "metadata": {
    "collapsed": false,
    "ExecuteTime": {
     "end_time": "2023-08-31T14:30:13.478943Z",
     "start_time": "2023-08-31T14:30:13.472836Z"
    }
   },
   "id": "7fce0edb51d5fcfb"
  },
  {
   "cell_type": "code",
   "execution_count": 4,
   "outputs": [
    {
     "data": {
      "text/plain": "'i have three visions for india. in years of our history, people from all over the world have come and invaded us, captured our lands, conquered our minds. from alexander onwards, the greeks, the turks, the moguls, the portuguese, the british, the french, the dutch, all of them came and looted us, took over what was ours. yet we have not done this to any other nation. we have not conquered anyone. we have not grabbed their land, their culture, their history and tried to enforce our way of life on them. why? because we respect the freedom of others.that is why my first vision is that of freedom. i believe that india got its first vision of this in , when we started the war of independence. it is this freedom that we must protect and nurture and build on. if we are not free, no one will respect us. my second vision for india’s development. for fifty years we have been a developing nation. it is time we see ourselves as a developed nation. we are among the top nations of the world in terms of gdp. we have a percent growth rate in most areas. our poverty levels are falling. our achievements are being globally recognised today. yet we lack the self-confidence to see ourselves as a developed nation, self-reliant and self-assured. isn’t this incorrect? i have a third vision. india must stand up to the world. because i believe that unless india stands up to the world, no one will respect us. only strength respects strength. we must be strong not only as a military power but also as an economic power. both must go hand-in-hand. my good fortune was to have worked with three great minds. dr. vikram sarabhai of the dept. of space, professor satish dhawan, who succeeded him and dr. brahm prakash, father of nuclear material. i was lucky to have worked with all three of them closely and consider this the great opportunity of my life. i see four milestones in my career'"
     },
     "execution_count": 4,
     "metadata": {},
     "output_type": "execute_result"
    }
   ],
   "source": [
    "text"
   ],
   "metadata": {
    "collapsed": false,
    "ExecuteTime": {
     "end_time": "2023-08-31T14:30:17.690132Z",
     "start_time": "2023-08-31T14:30:17.674444Z"
    }
   },
   "id": "a2f673517754bf57"
  },
  {
   "cell_type": "markdown",
   "source": [
    "Preparing the Dataset"
   ],
   "metadata": {
    "collapsed": false
   },
   "id": "87fbeb7fac31d021"
  },
  {
   "cell_type": "code",
   "execution_count": 6,
   "outputs": [],
   "source": [
    "sentences = nltk.sent_tokenize(text)"
   ],
   "metadata": {
    "collapsed": false,
    "ExecuteTime": {
     "end_time": "2023-08-31T14:31:49.035077Z",
     "start_time": "2023-08-31T14:31:49.020433Z"
    }
   },
   "id": "bd6c5de051269931"
  },
  {
   "cell_type": "code",
   "execution_count": 7,
   "outputs": [],
   "source": [
    "sentences = [nltk.word_tokenize(sentence) for sentence in sentences]"
   ],
   "metadata": {
    "collapsed": false,
    "ExecuteTime": {
     "end_time": "2023-08-31T14:34:15.640880Z",
     "start_time": "2023-08-31T14:34:15.624551Z"
    }
   },
   "id": "d7741b3aaf9d594d"
  },
  {
   "cell_type": "code",
   "execution_count": 8,
   "outputs": [],
   "source": [
    "corpus = []\n",
    "for i in range(len(sentences)):\n",
    "    sentences[i] = [word for word in sentences[i] if word not in stopwords.words('english')]\n",
    "    corpus.append(sentences[i])"
   ],
   "metadata": {
    "collapsed": false,
    "ExecuteTime": {
     "end_time": "2023-08-31T14:40:13.107291Z",
     "start_time": "2023-08-31T14:40:13.065913Z"
    }
   },
   "id": "c8167cd41ddee685"
  },
  {
   "cell_type": "markdown",
   "source": [
    "Training the Word2Vec model"
   ],
   "metadata": {
    "collapsed": false
   },
   "id": "d61711a1d04d01da"
  },
  {
   "cell_type": "code",
   "execution_count": 10,
   "outputs": [],
   "source": [
    "w2v = Word2Vec(corpus, min_count=1)"
   ],
   "metadata": {
    "collapsed": false,
    "ExecuteTime": {
     "end_time": "2023-08-31T14:43:10.537505Z",
     "start_time": "2023-08-31T14:43:10.508448Z"
    }
   },
   "id": "f8440e9965c031a5"
  },
  {
   "cell_type": "code",
   "execution_count": 13,
   "outputs": [],
   "source": [
    "words = w2v.wv.key_to_index\n",
    "\n",
    "from collections import OrderedDict\n",
    "words = OrderedDict(sorted(words.items()))"
   ],
   "metadata": {
    "collapsed": false,
    "ExecuteTime": {
     "end_time": "2023-08-31T14:51:44.991886Z",
     "start_time": "2023-08-31T14:51:44.989015Z"
    }
   },
   "id": "10e8438d25df8558"
  },
  {
   "cell_type": "markdown",
   "source": [
    "Viewing vectors of particular words and most similar words"
   ],
   "metadata": {
    "collapsed": false
   },
   "id": "c9677c1b12ff5093"
  },
  {
   "cell_type": "code",
   "execution_count": 14,
   "outputs": [
    {
     "data": {
      "text/plain": "array([ 9.42926490e-05,  3.08853132e-03, -6.80862833e-03, -1.36949518e-03,\n        7.67176785e-03,  7.31590157e-03, -3.66348145e-03,  2.66664568e-03,\n       -8.32889415e-03,  6.18499285e-03, -4.64496808e-03, -3.18670901e-03,\n        9.30484291e-03,  8.85420537e-04,  7.50609161e-03, -6.07325230e-03,\n        5.16023813e-03,  9.90988500e-03, -8.45997222e-03, -5.16438112e-03,\n       -7.04706833e-03, -4.86019813e-03, -3.75932013e-03, -8.55211075e-03,\n        7.94685353e-03, -4.83987574e-03,  8.40072520e-03,  5.27708605e-03,\n       -6.55388599e-03,  3.95502802e-03,  5.49184112e-03, -7.42933573e-03,\n       -7.38992123e-03, -2.48975144e-03, -8.63222592e-03, -1.57453085e-03,\n       -4.02563950e-04,  3.30367335e-03,  1.44001713e-03, -8.84960464e-04,\n       -5.58012258e-03,  1.72669382e-03, -8.97789025e-04,  6.79230411e-03,\n        3.97402095e-03,  4.53466084e-03,  1.42079825e-03, -2.70595355e-03,\n       -4.35934635e-03, -1.01431145e-03,  1.45662040e-03, -2.65324814e-03,\n       -7.06064515e-03, -7.81466439e-03, -9.11638234e-03, -5.91404177e-03,\n       -1.84594560e-03, -4.31119371e-03, -6.48133550e-03, -3.71971913e-03,\n        4.27746866e-03, -3.73955723e-03,  8.37869011e-03,  1.53755781e-03,\n       -7.25373067e-03,  9.45543591e-03,  7.62384292e-03,  5.50406426e-03,\n       -6.84727961e-03,  5.83320158e-03,  3.99947306e-03,  5.18567208e-03,\n        4.27270075e-03,  1.94280560e-03, -3.15944967e-03,  8.35058652e-03,\n        9.61993542e-03,  3.78200994e-03, -2.83300364e-03,  6.22408788e-06,\n        1.19875919e-03, -8.45002197e-03, -8.25158786e-03, -2.20711387e-04,\n        1.23232382e-03, -5.74701373e-03, -4.70176013e-03, -7.33976439e-03,\n        8.34176596e-03,  1.21350575e-04, -4.49356763e-03,  5.69968484e-03,\n        9.16670542e-03, -4.10328573e-03,  7.97575060e-03,  5.38657652e-03,\n        5.87283354e-03,  5.17874840e-04,  8.20498355e-03, -7.02995248e-03],\n      dtype=float32)"
     },
     "execution_count": 14,
     "metadata": {},
     "output_type": "execute_result"
    }
   ],
   "source": [
    "vector1 = w2v.wv['india']\n",
    "vector1"
   ],
   "metadata": {
    "collapsed": false,
    "ExecuteTime": {
     "end_time": "2023-08-31T14:57:55.609752Z",
     "start_time": "2023-08-31T14:57:55.601342Z"
    }
   },
   "id": "36d12733ebcc43c2"
  },
  {
   "cell_type": "code",
   "execution_count": 15,
   "outputs": [
    {
     "data": {
      "text/plain": "[('military', 0.370004802942276),\n ('took', 0.2122115045785904),\n ('greeks', 0.2021765112876892),\n ('three', 0.19961437582969666),\n ('prakash', 0.1892213076353073),\n ('developing', 0.1821625679731369),\n ('see', 0.17356346547603607),\n ('protect', 0.17105315625667572),\n ('must', 0.17062464356422424),\n ('recognised', 0.16197067499160767)]"
     },
     "execution_count": 15,
     "metadata": {},
     "output_type": "execute_result"
    }
   ],
   "source": [
    "similar = w2v.wv.most_similar('india')\n",
    "similar"
   ],
   "metadata": {
    "collapsed": false,
    "ExecuteTime": {
     "end_time": "2023-08-31T14:59:14.323985Z",
     "start_time": "2023-08-31T14:59:14.259747Z"
    }
   },
   "id": "6aa3ab25e2292289"
  },
  {
   "cell_type": "code",
   "execution_count": null,
   "outputs": [],
   "source": [],
   "metadata": {
    "collapsed": false
   },
   "id": "7627ed45638caac1"
  }
 ],
 "metadata": {
  "kernelspec": {
   "display_name": "Python 3",
   "language": "python",
   "name": "python3"
  },
  "language_info": {
   "codemirror_mode": {
    "name": "ipython",
    "version": 2
   },
   "file_extension": ".py",
   "mimetype": "text/x-python",
   "name": "python",
   "nbconvert_exporter": "python",
   "pygments_lexer": "ipython2",
   "version": "2.7.6"
  }
 },
 "nbformat": 4,
 "nbformat_minor": 5
}
